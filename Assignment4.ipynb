{
 "cells": [
  {
   "cell_type": "markdown",
   "metadata": {},
   "source": [
    "# Assignment 4\n",
    "\n",
    "Before working on this assignment please read these instructions fully. In the submission area, you will notice that you can click the link to **Preview the Grading** for each step of the assignment. This is the criteria that will be used for peer grading. Please familiarize yourself with the criteria before beginning the assignment.\n",
    "\n",
    "This assignment requires that you to find **at least** two datasets on the web which are related, and that you visualize these datasets to answer a question with the broad topic of **weather phenomena** (see below) for the region of **Ann Arbor, Michigan, United States**, or **United States** more broadly.\n",
    "\n",
    "You can merge these datasets with data from different regions if you like! For instance, you might want to compare **Ann Arbor, Michigan, United States** to Ann Arbor, USA. In that case at least one source file must be about **Ann Arbor, Michigan, United States**.\n",
    "\n",
    "You are welcome to choose datasets at your discretion, but keep in mind **they will be shared with your peers**, so choose appropriate datasets. Sensitive, confidential, illicit, and proprietary materials are not good choices for datasets for this assignment. You are welcome to upload datasets of your own as well, and link to them using a third party repository such as github, bitbucket, pastebin, etc. Please be aware of the Coursera terms of service with respect to intellectual property.\n",
    "\n",
    "Also, you are welcome to preserve data in its original language, but for the purposes of grading you should provide english translations. You are welcome to provide multiple visuals in different languages if you would like!\n",
    "\n",
    "As this assignment is for the whole course, you must incorporate principles discussed in the first week, such as having as high data-ink ratio (Tufte) and aligning with Cairo’s principles of truth, beauty, function, and insight.\n",
    "\n",
    "Here are the assignment instructions:\n",
    "\n",
    " * State the region and the domain category that your data sets are about (e.g., **Ann Arbor, Michigan, United States** and **weather phenomena**).\n",
    " * You must state a question about the domain category and region that you identified as being interesting.\n",
    " * You must provide at least two links to available datasets. These could be links to files such as CSV or Excel files, or links to websites which might have data in tabular form, such as Wikipedia pages.\n",
    " * You must upload an image which addresses the research question you stated. In addition to addressing the question, this visual should follow Cairo's principles of truthfulness, functionality, beauty, and insightfulness.\n",
    " * You must contribute a short (1-2 paragraph) written justification of how your visualization addresses your stated research question.\n",
    "\n",
    "What do we mean by **weather phenomena**?  For this category you might want to consider seasonal changes, natural disasters, or historical trends.\n",
    "\n",
    "## Tips\n",
    "* Wikipedia is an excellent source of data, and I strongly encourage you to explore it for new data sources.\n",
    "* Many governments run open data initiatives at the city, region, and country levels, and these are wonderful resources for localized data sources.\n",
    "* Several international agencies, such as the [United Nations](http://data.un.org/), the [World Bank](http://data.worldbank.org/), the [Global Open Data Index](http://index.okfn.org/place/) are other great places to look for data.\n",
    "* This assignment requires you to convert and clean datafiles. Check out the discussion forums for tips on how to do this from various sources, and share your successes with your fellow students!\n",
    "\n",
    "## Example\n",
    "Looking for an example? Here's what our course assistant put together for the **Ann Arbor, MI, USA** area using **sports and athletics** as the topic. [Example Solution File](./readonly/Assignment4_example.pdf)"
   ]
  },
  {
   "cell_type": "code",
   "execution_count": 8,
   "metadata": {
    "collapsed": true
   },
   "outputs": [],
   "source": [
    "# Importing libraries\n",
    "import matplotlib.pyplot as plt\n",
    "import numpy as np\n",
    "import os \n",
    "import seaborn as sns\n",
    "sns.set_style(\"white\")\n",
    "import pandas as pd\n",
    "my_dpi=96"
   ]
  },
  {
   "cell_type": "code",
   "execution_count": null,
   "metadata": {
    "collapsed": true
   },
   "outputs": [],
   "source": [
    "cd\n",
    "os.chdir('C:/Users/au588907/Downloads/')"
   ]
  },
  {
   "cell_type": "code",
   "execution_count": null,
   "metadata": {
    "collapsed": true
   },
   "outputs": [],
   "source": [
    "## Note : Main data sources are Gapminder\n",
    "\n",
    "# Importing GDP per capita data\n",
    "df1 = pd.read_csv('C:/Users/au588907/Downloads/gdppercapita_us_inflation_adjusted.csv')\n",
    "df1.shape\n",
    "df1.replace(np.nan, 0, inplace=True)\n",
    "df1.head()\n",
    "\n",
    "# Importing CO2 emissions per capita data\n",
    "df2 = pd.read_csv('C:/Users/au588907/Downloads/co2_emissions_tonnes_per_person.csv')\n",
    "df2.shape\n",
    "df2.replace(np.nan, 0, inplace=True)\n",
    "df2.head()\n",
    "\n",
    "# Importing CO2 emissions per capita data\n",
    "df3 = pd.read_csv('C:/Users/au588907/Downloads/population_total.csv')\n",
    "df3.shape\n",
    "df3.replace(np.nan, 0, inplace=True)\n",
    "df3.head()\n",
    "\n",
    "\n",
    "# Importing data with country and continents columns\n",
    "df4 = pd.read_csv('C:/Users/au588907/Downloads/gap.csv')\n",
    "df4.shape\n",
    "df4.head()"
   ]
  },
  {
   "cell_type": "code",
   "execution_count": null,
   "metadata": {
    "collapsed": true
   },
   "outputs": [],
   "source": [
    "# Cleaning of data\n",
    "\n",
    "# Reshaping GDP per capita data\n",
    "df1 = df1.melt(id_vars=['country'], var_name='year', value_name='gdpPercap')\n",
    "\n",
    "# Reshaping CO2 emissions per capita data\n",
    "df2 = df2.melt(id_vars=['country'], var_name='year', value_name='CO2Percap')\n",
    "\n",
    "# Reshaping population\n",
    "df3 = df3.melt(id_vars=['country'], var_name='year', value_name='pop')\n",
    "\n",
    "## Ensuring the right type of variable type\n",
    "df1['year'] = pd.to_numeric(df1['year'])\n",
    "df2['year'] = pd.to_numeric(df2['year'])\n",
    "df3['year'] = pd.to_numeric(df3['year'])\n",
    "df4['year'] = pd.to_numeric(df4['year'])\n",
    "\n",
    "df1['gdpPercap'] = pd.to_numeric(df1['gdpPercap'])\n",
    "df2['CO2Percap'] = pd.to_numeric(df2['CO2Percap'])\n",
    "df3['pop'] = pd.to_numeric(df3['pop'])\n",
    "\n",
    "\n",
    "df1.dtypes\n",
    "df2.dtypes\n",
    "df3.dtypes"
   ]
  },
  {
   "cell_type": "code",
   "execution_count": null,
   "metadata": {
    "collapsed": true
   },
   "outputs": [],
   "source": [
    "# Slice data to include those from year 1995-2014\n",
    "df1 = df1[(df1.year >= 1995) & (df1.year <= 2014)]\n",
    "df1.head()\n",
    "\n",
    "\n",
    "df2 = df2[(df2.year >= 1995) & (df2.year <= 2014)]\n",
    "df2.head()\n",
    "\n",
    "df3 = df3[(df3.year >= 1995) & (df3.year <= 2014)]\n",
    "df3.head()"
   ]
  },
  {
   "cell_type": "code",
   "execution_count": null,
   "metadata": {
    "collapsed": true
   },
   "outputs": [],
   "source": [
    "# Merging dataframes\n",
    "temp1 = pd.merge_asof(df1, df2, on='year', by='country')\n",
    "\n",
    "temp2 = pd.merge_asof(temp1, df3, on='year', by='country')\n",
    "\n",
    "data = pd.merge_asof(temp2, df4, on='year', by='country')\n",
    "\n",
    "## Converting and ensuring right varibale types for figure\n",
    "data[['CO2Percap', 'gdpPercap']] = data[['CO2Percap', 'gdpPercap']].apply(pd.to_numeric) \n",
    "data[['year', 'country']] = data[['year', 'country']].astype('category')\n",
    "data.dtypes\n",
    "\n",
    "data.shape\n",
    "data = data.dropna()\n",
    "data.round(3)\n",
    "data.describe()\n",
    "\n",
    "# Exporting complete data to pc\n",
    "#data.to_csv('C:/Users/au588907/Downloads/mygapminderData.csv')"
   ]
  },
  {
   "cell_type": "code",
   "execution_count": null,
   "metadata": {
    "collapsed": true
   },
   "outputs": [],
   "source": [
    "## Drawing Bubble plot for year 2010\n",
    "\n",
    "# Transform categorical column (continent) to a numerical value group1->1, group2->2...\n",
    "data['continent']=pd.Categorical(data['continent'])\n",
    "\n",
    "# Set up figure\n",
    "fig = plt.figure(figsize=(680/my_dpi, 480/my_dpi), dpi=my_dpi)\n",
    " \n",
    "# Change color with c and alpha. I map the color to the X axis value.\n",
    "tmp=data[ data.year == 2010 ]\n",
    "plt.scatter(tmp['gdpPercap'], tmp['CO2Percap'] , s=tmp['pop']/200000 , c=tmp['continent'].cat.codes, cmap=\"Accent\", \n",
    "            alpha=0.6, edgecolors=\"white\", linewidth=2)\n",
    " \n",
    "# Add titles (main and on axis)\n",
    "plt.xscale('log')\n",
    "plt.xlabel(\"GDP per capita (US$)\")\n",
    "plt.ylabel(\"CO2 emissions per capita (t $CO_{2}$)\")\n",
    "plt.title(\"Regional wealth versus per capita $CO_{2}$ emissions in 2010\")\n",
    "plt.ylim(-5,37)\n",
    "plt.xlim(0,100000)\n",
    "\n",
    "# Save it\n",
    "filename='Gapminder_data'+str(2010)+'.png'\n",
    "plt.savefig(filename, dpi=96)\n",
    "plt.gca()"
   ]
  },
  {
   "cell_type": "code",
   "execution_count": null,
   "metadata": {
    "collapsed": true
   },
   "outputs": [],
   "source": [
    "# Subsetting data for year 2010\n",
    "data2=data[data.year == 2010]\n",
    "\n",
    "g = plt.figure(figsize=(680/my_dpi, 480/my_dpi), dpi=my_dpi)\n",
    "\n",
    "g = sns.scatterplot(x=\"gdpPercap\", y=\"CO2Percap\", hue=\"continent\",\n",
    "            data=data2, \n",
    "            palette=['green','orange','brown','dodgerblue','red'], legend='full')\n",
    "\n",
    "g.set(xscale=\"log\")\n",
    "\n",
    "g.set(xlabel='GDP per capita (US$)', ylabel='$CO_2$ emissions per capita (t $CO_{2}$)',\n",
    "      title='Regional wealth versus per capita $CO_2$ emissions in 2010')\n",
    "\n",
    "#plt.savefig('Figure.png', dpi=300)"
   ]
  },
  {
   "cell_type": "code",
   "execution_count": null,
   "metadata": {
    "collapsed": true
   },
   "outputs": [],
   "source": [
    "import seaborn as sns\n",
    "sns.set_context(\"notebook\", font_scale=1.1)\n",
    "sns.set_style(\"ticks\")\n",
    "sns.despine()\n",
    "\n",
    "# Subsetting data for year 2010\n",
    "data2 = data[data.year == 2010]\n",
    "\n",
    "sizes = [20, 40, 80, 120, 200] \n",
    "marker_size = pd.cut(data2['pop']/1000000,[0, 100, 200, 400, 900, 1400], labels=sizes) \n",
    "\n",
    "g = plt.figure(figsize=(10,8))\n",
    "\n",
    "g = sns.lmplot(x=\"gdpPercap\", y=\"CO2Percap\", hue=\"continent\",\n",
    "            data=data2,fit_reg=False, scatter_kws={'s':marker_size},\n",
    "            palette=['green','orange','brown','dodgerblue','red'], legend='full')\n",
    "\n",
    "g.set(xscale=\"log\")\n",
    "\n",
    "g.set(xlabel='GDP per capita (US$)', ylabel='$CO_2$ emissions per capita (t $CO_{2}$)',\n",
    "      title='Regional wealth versus per capita $CO_2$ emissions in 2010')\n",
    "\n",
    "plt.minorticks_off()\n",
    "#plt.savefig('Figure.png', dpi=300)\n",
    "       "
   ]
  }
 ],
 "metadata": {
  "kernelspec": {
   "display_name": "Python 3",
   "language": "python",
   "name": "python3"
  },
  "language_info": {
   "codemirror_mode": {
    "name": "ipython",
    "version": 3
   },
   "file_extension": ".py",
   "mimetype": "text/x-python",
   "name": "python",
   "nbconvert_exporter": "python",
   "pygments_lexer": "ipython3",
   "version": "3.6.2"
  }
 },
 "nbformat": 4,
 "nbformat_minor": 1
}
